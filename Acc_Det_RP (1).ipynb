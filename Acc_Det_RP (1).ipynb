{
  "nbformat": 4,
  "nbformat_minor": 0,
  "metadata": {
    "colab": {
      "provenance": []
    },
    "kernelspec": {
      "name": "python3",
      "display_name": "Python 3"
    },
    "language_info": {
      "name": "python"
    }
  },
  "cells": [
    {
      "cell_type": "code",
      "execution_count": null,
      "metadata": {
        "id": "X541TzzATUjg",
        "colab": {
          "base_uri": "https://localhost:8080/"
        },
        "outputId": "a15f9304-b144-4b7f-e608-01f170fbeeb2"
      },
      "outputs": [
        {
          "output_type": "execute_result",
          "data": {
            "text/plain": [
              "['0', '1']"
            ]
          },
          "metadata": {},
          "execution_count": 2
        }
      ],
      "source": [
        "import os\n",
        "import shutil\n",
        "\n",
        "os.listdir(\"/content/drive/MyDrive/custom dataset/training\")\n",
        "os.listdir(\"/content/drive/MyDrive/custom dataset/validation\")"
      ]
    },
    {
      "cell_type": "code",
      "source": [
        "import os\n",
        "import cv2\n",
        "import matplotlib.pyplot as plt\n",
        "from PIL import Image\n",
        "import tensorflow as tf\n",
        "from keras import backend as K\n",
        "from keras.models import load_model\n",
        "from keras.preprocessing.image import img_to_array\n",
        "from tensorflow.keras.optimizers import Adam, RMSprop\n",
        "from tensorflow.keras.callbacks import ReduceLROnPlateau\n",
        "from tensorflow.keras.preprocessing.image import ImageDataGenerator"
      ],
      "metadata": {
        "id": "kd1DBhEVhkib"
      },
      "execution_count": null,
      "outputs": []
    },
    {
      "cell_type": "code",
      "source": [
        "IMG_SHAPE  = 224\n",
        "batch_size = 32"
      ],
      "metadata": {
        "id": "uu7ujRLwhpO8"
      },
      "execution_count": null,
      "outputs": []
    },
    {
      "cell_type": "code",
      "source": [
        "from tensorflow import keras\n",
        "\n",
        "base_model = keras.applications.VGG16(\n",
        "    weights='imagenet',  # Load weights pre-trained on ImageNet.\n",
        "    input_shape=(224, 224, 3),\n",
        "    include_top=False)\n",
        "\n",
        "base_model.summary()\n",
        "\n",
        "base_model.trainable = False\n",
        "\n",
        "inputs = keras.Input(shape=(224, 224, 3))\n",
        "# Separately from setting trainable on the model, we set training to False \n",
        "x = base_model(inputs, training=False)\n",
        "x = keras.layers.GlobalAveragePooling2D()(x)\n",
        "# A Dense classifier with a single unit (binary classification)\n",
        "outputs = keras.layers.Dense(1)(x)\n",
        "model = keras.Model(inputs, outputs)\n",
        "\n",
        "model.summary()\n",
        "\n",
        "\n",
        "# Important to use binary crossentropy and binary accuracy as we now have a binary classification problem\n",
        "model.compile(loss=keras.losses.BinaryCrossentropy(from_logits=True), metrics=[keras.metrics.BinaryAccuracy()])\n",
        "\n",
        "\n",
        "from tensorflow.keras.preprocessing.image import ImageDataGenerator\n",
        "# create a data generator\n",
        "datagen = ImageDataGenerator(\n",
        "        samplewise_center=True,  # set each sample mean to 0\n",
        "        rotation_range=10,  # randomly rotate images in the range (degrees, 0 to 180)\n",
        "        zoom_range = 0.1, # Randomly zoom image \n",
        "        width_shift_range=0.1,  # randomly shift images horizontally (fraction of total width)\n",
        "        height_shift_range=0.1,  # randomly shift images vertically (fraction of total height)\n",
        "        horizontal_flip=True,  # randomly flip images\n",
        "        vertical_flip=False) # we don't expect Bo to be upside-down so we will not flip vertically\n",
        "\n",
        "# load and iterate training dataset\n",
        "train_it = datagen.flow_from_directory('/content/drive/MyDrive/custom dataset/training', \n",
        "                                       target_size=(224, 224), \n",
        "                                       color_mode='rgb', \n",
        "                                       class_mode='binary', \n",
        "                                       batch_size=8)\n",
        "# load and iterate validation dataset\n",
        "valid_it = datagen.flow_from_directory('/content/drive/MyDrive/custom dataset/validation', \n",
        "                                      target_size=(224, 224), \n",
        "                                      color_mode='rgb', \n",
        "                                      class_mode='binary', \n",
        "                                      batch_size=8)\n",
        "\n",
        "h1= model.fit(train_it, steps_per_epoch=12, validation_data=valid_it, validation_steps=4, workers=10, epochs=20)\n"
      ],
      "metadata": {
        "colab": {
          "base_uri": "https://localhost:8080/"
        },
        "id": "BxxaAMcLh0G7",
        "outputId": "8834e3de-6b74-4aae-c8b0-5a2d0b53ac05"
      },
      "execution_count": null,
      "outputs": [
        {
          "output_type": "stream",
          "name": "stdout",
          "text": [
            "Model: \"vgg16\"\n",
            "_________________________________________________________________\n",
            " Layer (type)                Output Shape              Param #   \n",
            "=================================================================\n",
            " input_3 (InputLayer)        [(None, 224, 224, 3)]     0         \n",
            "                                                                 \n",
            " block1_conv1 (Conv2D)       (None, 224, 224, 64)      1792      \n",
            "                                                                 \n",
            " block1_conv2 (Conv2D)       (None, 224, 224, 64)      36928     \n",
            "                                                                 \n",
            " block1_pool (MaxPooling2D)  (None, 112, 112, 64)      0         \n",
            "                                                                 \n",
            " block2_conv1 (Conv2D)       (None, 112, 112, 128)     73856     \n",
            "                                                                 \n",
            " block2_conv2 (Conv2D)       (None, 112, 112, 128)     147584    \n",
            "                                                                 \n",
            " block2_pool (MaxPooling2D)  (None, 56, 56, 128)       0         \n",
            "                                                                 \n",
            " block3_conv1 (Conv2D)       (None, 56, 56, 256)       295168    \n",
            "                                                                 \n",
            " block3_conv2 (Conv2D)       (None, 56, 56, 256)       590080    \n",
            "                                                                 \n",
            " block3_conv3 (Conv2D)       (None, 56, 56, 256)       590080    \n",
            "                                                                 \n",
            " block3_pool (MaxPooling2D)  (None, 28, 28, 256)       0         \n",
            "                                                                 \n",
            " block4_conv1 (Conv2D)       (None, 28, 28, 512)       1180160   \n",
            "                                                                 \n",
            " block4_conv2 (Conv2D)       (None, 28, 28, 512)       2359808   \n",
            "                                                                 \n",
            " block4_conv3 (Conv2D)       (None, 28, 28, 512)       2359808   \n",
            "                                                                 \n",
            " block4_pool (MaxPooling2D)  (None, 14, 14, 512)       0         \n",
            "                                                                 \n",
            " block5_conv1 (Conv2D)       (None, 14, 14, 512)       2359808   \n",
            "                                                                 \n",
            " block5_conv2 (Conv2D)       (None, 14, 14, 512)       2359808   \n",
            "                                                                 \n",
            " block5_conv3 (Conv2D)       (None, 14, 14, 512)       2359808   \n",
            "                                                                 \n",
            " block5_pool (MaxPooling2D)  (None, 7, 7, 512)         0         \n",
            "                                                                 \n",
            "=================================================================\n",
            "Total params: 14,714,688\n",
            "Trainable params: 14,714,688\n",
            "Non-trainable params: 0\n",
            "_________________________________________________________________\n",
            "Model: \"model_1\"\n",
            "_________________________________________________________________\n",
            " Layer (type)                Output Shape              Param #   \n",
            "=================================================================\n",
            " input_4 (InputLayer)        [(None, 224, 224, 3)]     0         \n",
            "                                                                 \n",
            " vgg16 (Functional)          (None, 7, 7, 512)         14714688  \n",
            "                                                                 \n",
            " global_average_pooling2d_1   (None, 512)              0         \n",
            " (GlobalAveragePooling2D)                                        \n",
            "                                                                 \n",
            " dense_1 (Dense)             (None, 1)                 513       \n",
            "                                                                 \n",
            "=================================================================\n",
            "Total params: 14,715,201\n",
            "Trainable params: 513\n",
            "Non-trainable params: 14,714,688\n",
            "_________________________________________________________________\n",
            "Found 260 images belonging to 2 classes.\n",
            "Found 20 images belonging to 2 classes.\n",
            "Epoch 1/20\n",
            "12/12 [==============================] - 66s 5s/step - loss: 1.1199 - binary_accuracy: 0.5312 - val_loss: 0.5919 - val_binary_accuracy: 0.6429\n",
            "Epoch 2/20\n",
            "12/12 [==============================] - 65s 5s/step - loss: 0.7332 - binary_accuracy: 0.5938 - val_loss: 0.6693 - val_binary_accuracy: 0.5000\n",
            "Epoch 3/20\n",
            "12/12 [==============================] - 63s 5s/step - loss: 0.7503 - binary_accuracy: 0.6087 - val_loss: 0.5220 - val_binary_accuracy: 0.7500\n",
            "Epoch 4/20\n",
            "12/12 [==============================] - 65s 5s/step - loss: 0.7040 - binary_accuracy: 0.5625 - val_loss: 0.7223 - val_binary_accuracy: 0.6071\n",
            "Epoch 5/20\n",
            "12/12 [==============================] - 65s 5s/step - loss: 0.6673 - binary_accuracy: 0.6458 - val_loss: 0.5940 - val_binary_accuracy: 0.6786\n",
            "Epoch 6/20\n",
            "12/12 [==============================] - 65s 5s/step - loss: 0.5829 - binary_accuracy: 0.6771 - val_loss: 0.5190 - val_binary_accuracy: 0.6786\n",
            "Epoch 7/20\n",
            "12/12 [==============================] - 65s 5s/step - loss: 0.6362 - binary_accuracy: 0.6354 - val_loss: 0.4387 - val_binary_accuracy: 0.8214\n",
            "Epoch 8/20\n",
            "12/12 [==============================] - 65s 5s/step - loss: 0.5277 - binary_accuracy: 0.7188 - val_loss: 0.4660 - val_binary_accuracy: 0.6786\n",
            "Epoch 9/20\n",
            "12/12 [==============================] - 65s 5s/step - loss: 0.5260 - binary_accuracy: 0.6875 - val_loss: 0.4269 - val_binary_accuracy: 0.7857\n",
            "Epoch 10/20\n",
            "12/12 [==============================] - 65s 5s/step - loss: 0.5380 - binary_accuracy: 0.7396 - val_loss: 0.4667 - val_binary_accuracy: 0.7857\n",
            "Epoch 11/20\n",
            "12/12 [==============================] - 65s 5s/step - loss: 0.5255 - binary_accuracy: 0.7188 - val_loss: 0.4218 - val_binary_accuracy: 0.8571\n",
            "Epoch 12/20\n",
            "12/12 [==============================] - 65s 5s/step - loss: 0.4698 - binary_accuracy: 0.8021 - val_loss: 0.4726 - val_binary_accuracy: 0.7857\n",
            "Epoch 13/20\n",
            "12/12 [==============================] - 65s 5s/step - loss: 0.4189 - binary_accuracy: 0.8333 - val_loss: 0.3526 - val_binary_accuracy: 0.7857\n",
            "Epoch 14/20\n",
            "12/12 [==============================] - 65s 5s/step - loss: 0.4872 - binary_accuracy: 0.8125 - val_loss: 0.3492 - val_binary_accuracy: 0.7500\n",
            "Epoch 15/20\n",
            "12/12 [==============================] - 63s 5s/step - loss: 0.3866 - binary_accuracy: 0.8587 - val_loss: 0.3761 - val_binary_accuracy: 0.8571\n",
            "Epoch 16/20\n",
            "12/12 [==============================] - 63s 5s/step - loss: 0.3994 - binary_accuracy: 0.8696 - val_loss: 0.3450 - val_binary_accuracy: 0.7857\n",
            "Epoch 17/20\n",
            "12/12 [==============================] - 65s 5s/step - loss: 0.4458 - binary_accuracy: 0.7812 - val_loss: 0.3368 - val_binary_accuracy: 0.8929\n",
            "Epoch 18/20\n",
            "12/12 [==============================] - 65s 5s/step - loss: 0.3970 - binary_accuracy: 0.8438 - val_loss: 0.3480 - val_binary_accuracy: 0.8929\n",
            "Epoch 19/20\n",
            "12/12 [==============================] - 65s 5s/step - loss: 0.3697 - binary_accuracy: 0.8542 - val_loss: 0.3683 - val_binary_accuracy: 0.7500\n",
            "Epoch 20/20\n",
            "12/12 [==============================] - 65s 5s/step - loss: 0.3827 - binary_accuracy: 0.8854 - val_loss: 0.3211 - val_binary_accuracy: 0.8571\n"
          ]
        }
      ]
    },
    {
      "cell_type": "code",
      "source": [
        "# Unfreeze the base model\n",
        "base_model.trainable = True\n",
        "\n",
        "# It's important to recompile your model after you make any changes\n",
        "# to the `trainable` attribute of any inner layer, so that your changes\n",
        "# are taken into account\n",
        "model.compile(optimizer=keras.optimizers.RMSprop(learning_rate = .00001),  # Very low learning rate\n",
        "              loss=keras.losses.BinaryCrossentropy(from_logits=True),\n",
        "              metrics=[keras.metrics.BinaryAccuracy()])\n",
        "\n",
        "history = model.fit(train_it, steps_per_epoch=12, validation_data=valid_it, validation_steps=4, workers=10, epochs=8)\n"
      ],
      "metadata": {
        "colab": {
          "base_uri": "https://localhost:8080/"
        },
        "id": "rKZUY1U6mTpE",
        "outputId": "b1356b90-55c6-46ba-d94d-ae712e6717b4"
      },
      "execution_count": null,
      "outputs": [
        {
          "output_type": "stream",
          "name": "stdout",
          "text": [
            "Epoch 1/8\n",
            "12/12 [==============================] - 198s 16s/step - loss: 0.2145 - binary_accuracy: 0.9375 - val_loss: 0.2406 - val_binary_accuracy: 0.9286\n",
            "Epoch 2/8\n",
            "12/12 [==============================] - 195s 16s/step - loss: 0.1495 - binary_accuracy: 0.9271 - val_loss: 0.0944 - val_binary_accuracy: 0.9643\n",
            "Epoch 3/8\n",
            "12/12 [==============================] - 195s 16s/step - loss: 0.1534 - binary_accuracy: 0.9583 - val_loss: 0.1128 - val_binary_accuracy: 0.9643\n",
            "Epoch 4/8\n",
            "12/12 [==============================] - 188s 16s/step - loss: 0.2087 - binary_accuracy: 0.9348 - val_loss: 0.2312 - val_binary_accuracy: 0.9286\n",
            "Epoch 5/8\n",
            "12/12 [==============================] - 195s 16s/step - loss: 0.0868 - binary_accuracy: 0.9688 - val_loss: 0.2044 - val_binary_accuracy: 0.9643\n",
            "Epoch 6/8\n",
            "12/12 [==============================] - 187s 16s/step - loss: 0.1391 - binary_accuracy: 0.9565 - val_loss: 0.1490 - val_binary_accuracy: 0.9286\n",
            "Epoch 7/8\n",
            "12/12 [==============================] - 188s 16s/step - loss: 0.0652 - binary_accuracy: 0.9783 - val_loss: 0.2029 - val_binary_accuracy: 0.8929\n",
            "Epoch 8/8\n",
            "12/12 [==============================] - 187s 16s/step - loss: 0.0862 - binary_accuracy: 0.9783 - val_loss: 0.0707 - val_binary_accuracy: 0.9643\n"
          ]
        }
      ]
    },
    {
      "cell_type": "code",
      "source": [
        "# list all data in history\n",
        "print(history.history.keys())"
      ],
      "metadata": {
        "colab": {
          "base_uri": "https://localhost:8080/"
        },
        "id": "sz4bdO_37B86",
        "outputId": "1cf66078-de7f-4a84-fd8f-482c4bbe42ea"
      },
      "execution_count": null,
      "outputs": [
        {
          "output_type": "stream",
          "name": "stdout",
          "text": [
            "dict_keys(['loss', 'binary_accuracy', 'val_loss', 'val_binary_accuracy'])\n"
          ]
        }
      ]
    },
    {
      "cell_type": "code",
      "source": [
        "# summarize history for accuracy\n",
        "plt.plot(history.history['binary_accuracy'])\n",
        "plt.plot(history.history['val_binary_accuracy'])\n",
        "plt.title('model accuracy')\n",
        "plt.ylabel('accuracy')\n",
        "plt.xlabel('epoch')\n",
        "plt.legend(['train', 'test'], loc='upper left')\n",
        "plt.show()"
      ],
      "metadata": {
        "colab": {
          "base_uri": "https://localhost:8080/",
          "height": 295
        },
        "id": "HTfWxcL57Svg",
        "outputId": "bb73c7ee-1130-4707-b674-a7c61754c72a"
      },
      "execution_count": null,
      "outputs": [
        {
          "output_type": "display_data",
          "data": {
            "image/png": "[encoded data removed]",
            "text/plain": [
              "<Figure size 432x288 with 1 Axes>"
            ]
          },
          "metadata": {
            "needs_background": "light"
          }
        }
      ]
    },
    {
      "cell_type": "code",
      "source": [
        "# summarize history for loss\n",
        "plt.plot(history.history['loss'])\n",
        "plt.plot(history.history['val_loss'])\n",
        "plt.title('model loss')\n",
        "plt.ylabel('loss')\n",
        "plt.xlabel('epoch')\n",
        "plt.legend(['train', 'test'], loc='upper left')\n",
        "plt.show()"
      ],
      "metadata": {
        "colab": {
          "base_uri": "https://localhost:8080/",
          "height": 295
        },
        "id": "dCTHqhVK-8fM",
        "outputId": "4202514a-c978-43cd-c9b6-8a3624c585de"
      },
      "execution_count": null,
      "outputs": [
        {
          "output_type": "display_data",
          "data": {
            "image/png": "[encoded data removed]",
            "text/plain": [
              "<Figure size 432x288 with 1 Axes>"
            ]
          },
          "metadata": {
            "needs_background": "light"
          }
        }
      ]
    },
    {
      "cell_type": "code",
      "source": [
        "#Examining Predictions\n",
        "import matplotlib.pyplot as plt\n",
        "import matplotlib.image as mpimg\n",
        "from tensorflow.keras.preprocessing import image as image_utils\n",
        "from tensorflow.keras.applications.imagenet_utils import preprocess_input\n",
        "\n",
        "def show_image(image_path):\n",
        "    image = mpimg.imread(image_path)\n",
        "    plt.imshow(image)\n",
        "\n",
        "def make_predictions(image_path):\n",
        "    show_image(image_path)\n",
        "    image = image_utils.load_img(image_path, target_size=(224, 224))\n",
        "    image = image_utils.img_to_array(image)\n",
        "    image = image.reshape(1,224,224,3)\n",
        "    image = preprocess_input(image)\n",
        "    preds = model.predict(image, batch_size=1)\n",
        "    return preds"
      ],
      "metadata": {
        "id": "elCQSgAVwI7z"
      },
      "execution_count": null,
      "outputs": []
    },
    {
      "cell_type": "code",
      "source": [
        "# summarize history for accuracy\n",
        "plt.plot(h1.history['binary_accuracy'])\n",
        "plt.plot(h1.history['val_binary_accuracy'])\n",
        "plt.title('model accuracy')\n",
        "plt.ylabel('accuracy')\n",
        "plt.xlabel('epoch')\n",
        "plt.legend(['train', 'test'], loc='upper left')\n",
        "plt.show()"
      ],
      "metadata": {
        "colab": {
          "base_uri": "https://localhost:8080/",
          "height": 295
        },
        "id": "r9LGafRbY_Eo",
        "outputId": "a02c41ac-dccb-4366-aa2d-9754143f0815"
      },
      "execution_count": null,
      "outputs": [
        {
          "output_type": "display_data",
          "data": {
            "image/png": "[encoded data removed]",
            "text/plain": [
              "<Figure size 432x288 with 1 Axes>"
            ]
          },
          "metadata": {
            "needs_background": "light"
          }
        }
      ]
    },
    {
      "cell_type": "code",
      "source": [
        "# summarize history for loss\n",
        "plt.plot(h1.history['loss'])\n",
        "plt.plot(h1.history['val_loss'])\n",
        "plt.title('model loss')\n",
        "plt.ylabel('loss')\n",
        "plt.xlabel('epoch')\n",
        "plt.legend(['train', 'test'], loc='upper left')\n",
        "plt.show()"
      ],
      "metadata": {
        "colab": {
          "base_uri": "https://localhost:8080/",
          "height": 295
        },
        "id": "hCTODYutfcXy",
        "outputId": "46c7586a-cabd-43ed-eb78-31b2f208693d"
      },
      "execution_count": null,
      "outputs": [
        {
          "output_type": "display_data",
          "data": {
            "image/png": "[encoded data removed]",
            "text/plain": [
              "<Figure size 432x288 with 1 Axes>"
            ]
          },
          "metadata": {
            "needs_background": "light"
          }
        }
      ]
    },
    {
      "cell_type": "code",
      "source": [
        "test_it = datagen.flow_from_directory('/content/drive/MyDrive/custom dataset/test', \n",
        "                                      target_size=(224, 224), \n",
        "                                      color_mode='rgb', \n",
        "                                      class_mode='binary', \n",
        "                                      batch_size=8)"
      ],
      "metadata": {
        "colab": {
          "base_uri": "https://localhost:8080/"
        },
        "id": "Q9iTsKVypeO6",
        "outputId": "a708c2dd-ff51-4143-aef4-4645d074d27c"
      },
      "execution_count": null,
      "outputs": [
        {
          "output_type": "stream",
          "name": "stdout",
          "text": [
            "Found 20 images belonging to 2 classes.\n"
          ]
        }
      ]
    },
    {
      "cell_type": "code",
      "source": [
        "from sklearn.metrics import confusion_matrix\n",
        "# from plot_conf_matr import plot_confusion_matrix\n",
        "import numpy as np\n",
        "category_names=[\"Accident\", \"No Accident\"]"
      ],
      "metadata": {
        "id": "tCL-gM2KmC3A"
      },
      "execution_count": null,
      "outputs": []
    },
    {
      "cell_type": "code",
      "source": [
        "Y_pred = model.predict(valid_it)\n",
        "Y_pred.shape"
      ],
      "metadata": {
        "colab": {
          "base_uri": "https://localhost:8080/"
        },
        "id": "XG8wZH21qoDG",
        "outputId": "ddde696f-094f-452d-e229-6e8261fdfcf2"
      },
      "execution_count": null,
      "outputs": [
        {
          "output_type": "execute_result",
          "data": {
            "text/plain": [
              "(20, 1)"
            ]
          },
          "metadata": {},
          "execution_count": 89
        }
      ]
    },
    {
      "cell_type": "code",
      "source": [
        "Y_pred"
      ],
      "metadata": {
        "colab": {
          "base_uri": "https://localhost:8080/"
        },
        "id": "ZwuPkngfxrj8",
        "outputId": "2850f4e6-b19d-4559-faad-fb860829aa90"
      },
      "execution_count": null,
      "outputs": [
        {
          "output_type": "execute_result",
          "data": {
            "text/plain": [
              "array([[-0.5177838 ],\n",
              "       [ 0.26690876],\n",
              "       [-1.1174822 ],\n",
              "       [-0.68274575],\n",
              "       [ 2.1797993 ],\n",
              "       [-2.9433658 ],\n",
              "       [-1.1028719 ],\n",
              "       [ 3.867353  ],\n",
              "       [ 0.03920872],\n",
              "       [-0.43823224],\n",
              "       [ 3.2830915 ],\n",
              "       [-0.2860167 ],\n",
              "       [ 1.2209172 ],\n",
              "       [ 3.2399614 ],\n",
              "       [ 2.644327  ],\n",
              "       [-1.8805454 ],\n",
              "       [-1.7720673 ],\n",
              "       [ 0.26882082],\n",
              "       [ 0.51731926],\n",
              "       [ 1.311078  ]], dtype=float32)"
            ]
          },
          "metadata": {},
          "execution_count": 90
        }
      ]
    },
    {
      "cell_type": "code",
      "source": [
        "yp=[]\n",
        "for i in range(0, 20, 1):\n",
        "  if Y_pred[i]>[0.267]:\n",
        "    yp.append(1)\n",
        "  else: \n",
        "    yp.append(0)\n",
        "\n",
        "print(yp)"
      ],
      "metadata": {
        "colab": {
          "base_uri": "https://localhost:8080/"
        },
        "id": "ZIRWM7kWyUNF",
        "outputId": "7c3b4ecc-25f5-46b8-a237-d7ee93f01135"
      },
      "execution_count": null,
      "outputs": [
        {
          "output_type": "stream",
          "name": "stdout",
          "text": [
            "[0, 0, 0, 0, 1, 0, 0, 1, 0, 0, 1, 0, 1, 1, 1, 0, 0, 1, 1, 1]\n"
          ]
        }
      ]
    },
    {
      "cell_type": "code",
      "source": [
        "y_pred = np.argmax(Y_pred, axis=1)\n",
        "y_pred.shape"
      ],
      "metadata": {
        "colab": {
          "base_uri": "https://localhost:8080/"
        },
        "id": "dZmcPO_vr5Ot",
        "outputId": "7d151aa7-0319-40a9-fd4c-40b9fdd7bfd5"
      },
      "execution_count": null,
      "outputs": [
        {
          "output_type": "execute_result",
          "data": {
            "text/plain": [
              "(20,)"
            ]
          },
          "metadata": {},
          "execution_count": 82
        }
      ]
    },
    {
      "cell_type": "code",
      "source": [
        "y_pred"
      ],
      "metadata": {
        "colab": {
          "base_uri": "https://localhost:8080/"
        },
        "id": "OvVaOvs0x2em",
        "outputId": "8570858b-829d-48bd-c8d7-5002f4a5b267"
      },
      "execution_count": null,
      "outputs": [
        {
          "output_type": "execute_result",
          "data": {
            "text/plain": [
              "array([0, 0, 0, 0, 0, 0, 0, 0, 0, 0, 0, 0, 0, 0, 0, 0, 0, 0, 0, 0])"
            ]
          },
          "metadata": {},
          "execution_count": 83
        }
      ]
    },
    {
      "cell_type": "code",
      "source": [
        "test_it.classes"
      ],
      "metadata": {
        "colab": {
          "base_uri": "https://localhost:8080/"
        },
        "id": "XcrUIs0LwBsX",
        "outputId": "c80fd52b-3935-4c28-d593-ddc05b368114"
      },
      "execution_count": null,
      "outputs": [
        {
          "output_type": "execute_result",
          "data": {
            "text/plain": [
              "array([0, 0, 0, 0, 0, 0, 0, 0, 0, 0, 1, 1, 1, 1, 1, 1, 1, 1, 1, 1],\n",
              "      dtype=int32)"
            ]
          },
          "metadata": {},
          "execution_count": 79
        }
      ]
    },
    {
      "cell_type": "code",
      "source": [
        "# Y_pred = model.predict_generator(valid_it)\n",
        "# y_pred = np.argmax(Y_pred, axis=1)\n",
        "cm = confusion_matrix(valid_it.classes, yp)\n",
        "# plot_confusion_matrix(cm)"
      ],
      "metadata": {
        "colab": {
          "base_uri": "https://localhost:8080/"
        },
        "id": "BlP2OJkhl3mz",
        "outputId": "2fc0ed1d-f1aa-45dd-8e8c-5691e839a8ed"
      },
      "execution_count": null,
      "outputs": [
        {
          "output_type": "stream",
          "name": "stdout",
          "text": [
            "[0 0 0 0 0 0 0 0 0 0 0 0 0 0 0 0 0 0 0 0]\n"
          ]
        }
      ]
    },
    {
      "cell_type": "code",
      "source": [
        "print(cm)"
      ],
      "metadata": {
        "colab": {
          "base_uri": "https://localhost:8080/"
        },
        "id": "FVQ4SPjJnR2B",
        "outputId": "1c9ada07-bd0d-49f9-cf1e-0b38f9775863"
      },
      "execution_count": null,
      "outputs": [
        {
          "output_type": "stream",
          "name": "stdout",
          "text": [
            "[[8 2]\n",
            " [3 7]]\n"
          ]
        }
      ]
    },
    {
      "cell_type": "code",
      "source": [
        "from sklearn.metrics import ConfusionMatrixDisplay\n",
        "labels= [\"Accident\", \"No Accident\"]\n",
        "disp = ConfusionMatrixDisplay(confusion_matrix=cm, display_labels= labels)\n",
        "\n",
        "disp.plot(cmap=plt.cm.Blues)\n",
        "plt.show()"
      ],
      "metadata": {
        "colab": {
          "base_uri": "https://localhost:8080/",
          "height": 283
        },
        "id": "M1Tje1wH2Cfk",
        "outputId": "cc629967-6f06-42dd-f35f-9e53efd242b0"
      },
      "execution_count": null,
      "outputs": [
        {
          "output_type": "display_data",
          "data": {
            "image/png": "[encoded data removed]",
            "text/plain": [
              "<Figure size 432x288 with 2 Axes>"
            ]
          },
          "metadata": {
            "needs_background": "light"
          }
        }
      ]
    },
    {
      "cell_type": "code",
      "source": [
        "import sklearn.metrics as metrics\n",
        "fpr, tpr, threshold = metrics.roc_curve(valid_it.classes, yp)\n",
        "roc_auc = metrics.auc(fpr, tpr)"
      ],
      "metadata": {
        "id": "1YZa29Vy-hcg"
      },
      "execution_count": null,
      "outputs": []
    },
    {
      "cell_type": "code",
      "source": [
        "plt.title('Receiver Operating Characteristic')\n",
        "plt.plot(fpr, tpr, 'b', label = 'AUC = %0.2f' % roc_auc)\n",
        "plt.legend(loc = 'lower right')\n",
        "plt.plot([0, 1], [0, 1],'r--')\n",
        "plt.xlim([0, 1])\n",
        "plt.ylim([0, 1])\n",
        "plt.ylabel('True Positive Rate')\n",
        "plt.xlabel('False Positive Rate')\n",
        "plt.show()"
      ],
      "metadata": {
        "colab": {
          "base_uri": "https://localhost:8080/",
          "height": 295
        },
        "id": "tNTrbVhu_WlH",
        "outputId": "9a5476c5-ad6e-4e9f-c2e4-42630c907b64"
      },
      "execution_count": null,
      "outputs": [
        {
          "output_type": "display_data",
          "data": {
            "image/png": "[encoded data removed]",
            "text/plain": [
              "<Figure size 432x288 with 1 Axes>"
            ]
          },
          "metadata": {
            "needs_background": "light"
          }
        }
      ]
    }
  ]
}